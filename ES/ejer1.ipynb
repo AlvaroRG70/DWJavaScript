{
 "cells": [
  {
   "cell_type": "markdown",
   "metadata": {},
   "source": [
    "Desarrolla una función que reciba tres números y los muestre ordenados de menor a mayor."
   ]
  },
  {
   "cell_type": "code",
   "execution_count": 2,
   "metadata": {},
   "outputs": [],
   "source": [
    "def ordena(a,b,c):\n",
    "    lista = []\n",
    "    lista.append(a)\n",
    "    lista.append(b)\n",
    "    lista.append(c)\n",
    "    lista.sort()\n",
    "    return lista"
   ]
  },
  {
   "cell_type": "code",
   "execution_count": 3,
   "metadata": {},
   "outputs": [
    {
     "data": {
      "text/plain": [
       "[3, 4, 5]"
      ]
     },
     "execution_count": 3,
     "metadata": {},
     "output_type": "execute_result"
    }
   ],
   "source": [
    "ordena(3,4,5)"
   ]
  },
  {
   "cell_type": "code",
   "execution_count": 12,
   "metadata": {},
   "outputs": [
    {
     "name": "stdout",
     "output_type": "stream",
     "text": [
      "Los pares son: 2 4 6 8 \n"
     ]
    }
   ],
   "source": [
    "n1 = int(input(\"escribe un número\"))\n",
    "n2 = int(input(\"escribe un número\"))\n",
    "cadena = \"Los pares son: \"\n",
    "if n1 < n2:\n",
    "    for i in range(n1,n2):\n",
    "        if i%2 == 0:\n",
    "            cadena += str(i) + \" \"\n",
    "else:\n",
    "    for i in range(n2,n1):\n",
    "        if i%2 == 0:\n",
    "            cadena += str(i) + \" \"\n",
    "print(cadena)"
   ]
  },
  {
   "cell_type": "code",
   "execution_count": 9,
   "metadata": {},
   "outputs": [
    {
     "name": "stdout",
     "output_type": "stream",
     "text": [
      "2\n",
      "4\n",
      "6\n",
      "8\n"
     ]
    }
   ],
   "source": [
    "for i in range(1,10):\n",
    "    if i%2 == 0:\n",
    "        print(i)\n",
    "    "
   ]
  },
  {
   "cell_type": "code",
   "execution_count": 15,
   "metadata": {},
   "outputs": [
    {
     "name": "stdout",
     "output_type": "stream",
     "text": [
      "120\n"
     ]
    }
   ],
   "source": [
    "n = int(input())\n",
    "f = 1\n",
    "for i in range(1,n+1):\n",
    "    f = f*i\n",
    "print(f)"
   ]
  },
  {
   "cell_type": "code",
   "execution_count": 20,
   "metadata": {},
   "outputs": [
    {
     "name": "stdout",
     "output_type": "stream",
     "text": [
      " el numero no se encuentra en la lista\n",
      " el numero no se encuentra en la lista\n",
      " el numero no se encuentra en la lista\n",
      " el numero no se encuentra en la lista\n",
      " el numero no se encuentra en la lista\n",
      " el numero no se encuentra en la lista\n",
      " el numero no se encuentra en la lista\n",
      " el numero no se encuentra en la lista\n",
      " el numero no se encuentra en la lista\n"
     ]
    }
   ],
   "source": [
    "array = list(input(\"escribe una lista de 10 numeros\"))\n",
    "n = int(input(\"escribe un numero\"))\n",
    "for i in array:\n",
    "    if n == i:\n",
    "        print(\"{} se encuentra en la lista {}\".format(n,array))\n",
    "    else:\n",
    "        print(\" el numero no se encuentra en la lista\")"
   ]
  },
  {
   "cell_type": "code",
   "execution_count": null,
   "metadata": {},
   "outputs": [],
   "source": []
  }
 ],
 "metadata": {
  "kernelspec": {
   "display_name": "Python 3",
   "language": "python",
   "name": "python3"
  },
  "language_info": {
   "codemirror_mode": {
    "name": "ipython",
    "version": 3
   },
   "file_extension": ".py",
   "mimetype": "text/x-python",
   "name": "python",
   "nbconvert_exporter": "python",
   "pygments_lexer": "ipython3",
   "version": "3.10.12"
  },
  "orig_nbformat": 4
 },
 "nbformat": 4,
 "nbformat_minor": 2
}
